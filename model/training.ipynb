{
 "cells": [
  {
   "cell_type": "code",
   "execution_count": 91,
   "metadata": {},
   "outputs": [],
   "source": [
    "import findspark\n",
    "findspark.init()\n",
    "from pyspark import SparkConf\n",
    "from pyspark.sql import SparkSession\n",
    "from pyspark.conf import SparkConf\n",
    "from pyspark.sql import functions as F\n",
    "SparkSession.builder.config(conf=SparkConf())\n",
    "from pyspark.ml.recommendation import ALS\n",
    "\n",
    "\n",
    "######################\n",
    "# init spark session #\n",
    "######################\n",
    "spark = SparkSession.builder \\\n",
    "    .appName(\"train-model\") \\\n",
    "    .getOrCreate()"
   ]
  },
  {
   "cell_type": "code",
   "execution_count": 92,
   "metadata": {},
   "outputs": [
    {
     "name": "stdout",
     "output_type": "stream",
     "text": [
      "+---+--------+------+--------------------+-------+--------------------+------+------+------------+---------+--------------------+------+\n",
      "|age|function|gender|               genre|movieId|                name|number|rating|release_date|timestamp|                 url|userId|\n",
      "+---+--------+------+--------------------+-------+--------------------+------+------+------------+---------+--------------------+------+\n",
      "| 60| retired|     M|[Animation, Child...|      1|    Toy Story (1995)| 95076|     4| 01-Jan-1995|887736532|http://us.imdb.co...|   308|\n",
      "| 60| retired|     M|[Action, Comedy, ...|      4|   Get Shorty (1995)| 95076|     5| 01-Jan-1995|887737890|http://us.imdb.co...|   308|\n",
      "| 60| retired|     M|[Crime, Drama, Th...|      5|      Copycat (1995)| 95076|     4| 01-Jan-1995|887739608|http://us.imdb.co...|   308|\n",
      "| 60| retired|     M|     [Drama, Sci-Fi]|      7|Twelve Monkeys (1...| 95076|     4| 01-Jan-1995|887738847|http://us.imdb.co...|   308|\n",
      "| 60| retired|     M|[Children's, Come...|      8|         Babe (1995)| 95076|     5| 01-Jan-1995|887736696|http://us.imdb.co...|   308|\n",
      "+---+--------+------+--------------------+-------+--------------------+------+------+------------+---------+--------------------+------+\n",
      "only showing top 5 rows\n",
      "\n"
     ]
    }
   ],
   "source": [
    "movie_ratings = spark.read.json('../data/movies.json')\n",
    "movie_ratings.show(5)"
   ]
  },
  {
   "cell_type": "code",
   "execution_count": 93,
   "metadata": {},
   "outputs": [
    {
     "name": "stdout",
     "output_type": "stream",
     "text": [
      "root\n",
      " |-- age: string (nullable = true)\n",
      " |-- function: string (nullable = true)\n",
      " |-- gender: string (nullable = true)\n",
      " |-- genre: array (nullable = true)\n",
      " |    |-- element: string (containsNull = true)\n",
      " |-- movieId: string (nullable = true)\n",
      " |-- name: string (nullable = true)\n",
      " |-- number: string (nullable = true)\n",
      " |-- rating: string (nullable = true)\n",
      " |-- release_date: string (nullable = true)\n",
      " |-- timestamp: string (nullable = true)\n",
      " |-- url: string (nullable = true)\n",
      " |-- userId: string (nullable = true)\n",
      "\n"
     ]
    }
   ],
   "source": [
    "movie_ratings.printSchema()"
   ]
  },
  {
   "cell_type": "code",
   "execution_count": 94,
   "metadata": {},
   "outputs": [],
   "source": [
    "movie_df = movie_ratings.select(\n",
    "    F.col(\"age\").cast(\"int\").alias(\"age\"),\n",
    "    F.col(\"function\").alias(\"function\"),\n",
    "    F.col(\"rating\").cast(\"float\").alias(\"rating\"),\n",
    "    F.col(\"gender\").alias(\"gender\"),\n",
    "    F.col(\"genre\").alias(\"genre\"),\n",
    "    F.col(\"movieId\").cast(\"int\").alias(\"movieId\"),\n",
    "    F.col(\"release_date\").alias(\"release_date\"),\n",
    "    F.col(\"timestamp\").alias(\"timestamp\"),\n",
    "    F.col(\"url\").alias(\"url\"),\n",
    "    F.col(\"number\").alias(\"codeZip\"),\n",
    "    F.col(\"userId\").cast(\"int\").alias(\"userId\"),\n",
    ")"
   ]
  },
  {
   "cell_type": "code",
   "execution_count": 95,
   "metadata": {},
   "outputs": [
    {
     "name": "stdout",
     "output_type": "stream",
     "text": [
      "root\n",
      " |-- age: integer (nullable = true)\n",
      " |-- function: string (nullable = true)\n",
      " |-- rating: float (nullable = true)\n",
      " |-- gender: string (nullable = true)\n",
      " |-- genre: array (nullable = true)\n",
      " |    |-- element: string (containsNull = true)\n",
      " |-- movieId: integer (nullable = true)\n",
      " |-- release_date: string (nullable = true)\n",
      " |-- timestamp: string (nullable = true)\n",
      " |-- url: string (nullable = true)\n",
      " |-- codeZip: string (nullable = true)\n",
      " |-- userId: integer (nullable = true)\n",
      "\n"
     ]
    }
   ],
   "source": [
    "movie_df.printSchema()"
   ]
  },
  {
   "cell_type": "code",
   "execution_count": 96,
   "metadata": {},
   "outputs": [],
   "source": [
    "als = ALS(maxIter=10, \n",
    "          regParam=0.5, \n",
    "          userCol=\"userId\", \n",
    "          itemCol = \"movieId\", \n",
    "          ratingCol = \"rating\", \n",
    "          coldStartStrategy = \"drop\")"
   ]
  },
  {
   "cell_type": "markdown",
   "metadata": {},
   "source": [
    "<code>\n",
    "split the data:\n",
    "</code>"
   ]
  },
  {
   "cell_type": "code",
   "execution_count": 97,
   "metadata": {},
   "outputs": [],
   "source": [
    "train, test = movie_df.randomSplit([0.8, 0.2])"
   ]
  },
  {
   "cell_type": "markdown",
   "metadata": {},
   "source": [
    "<code>\n",
    "Training the Model:\n",
    "</code>"
   ]
  },
  {
   "cell_type": "code",
   "execution_count": 98,
   "metadata": {},
   "outputs": [],
   "source": [
    "alsModel = als.fit(train)"
   ]
  },
  {
   "cell_type": "markdown",
   "metadata": {},
   "source": [
    "<code>\n",
    "Generating Predictions:\n",
    "</code>"
   ]
  },
  {
   "cell_type": "code",
   "execution_count": 99,
   "metadata": {},
   "outputs": [],
   "source": [
    "prediction = alsModel.transform(test)"
   ]
  },
  {
   "cell_type": "code",
   "execution_count": 100,
   "metadata": {},
   "outputs": [
    {
     "name": "stdout",
     "output_type": "stream",
     "text": [
      "+---+--------+------+------+--------------------+-------+------------+---------+--------------------+-------+------+----------+\n",
      "|age|function|rating|gender|               genre|movieId|release_date|timestamp|                 url|codeZip|userId|prediction|\n",
      "+---+--------+------+------+--------------------+-------+------------+---------+--------------------+-------+------+----------+\n",
      "| 10| student|   1.0|     M|[Animation, Child...|    432| 01-Jan-1940|889827822|http://us.imdb.co...|  77459|   471|   3.51521|\n",
      "| 10| student|   1.0|     M|[Animation, Child...|    588| 01-Jan-1991|889827881|http://us.imdb.co...|  77459|   471|  3.563692|\n",
      "| 10| student|   1.0|     M|[Animation, Child...|    596| 21-Jun-1996|889827881|http://us.imdb.co...|  77459|   471|  3.184797|\n",
      "| 10| student|   2.0|     M|[Adventure, Child...|    151| 01-Jan-1971|889828154|http://us.imdb.co...|  77459|   471| 3.4146192|\n",
      "| 10| student|   2.0|     M|[Animation, Child...|    404| 01-Jan-1940|889827757|http://us.imdb.co...|  77459|   471| 3.3906407|\n",
      "| 10| student|   2.0|     M|[Animation, Child...|     99| 01-Jan-1937|889827918|http://us.imdb.co...|  77459|   471|  3.476946|\n",
      "| 10| student|   3.0|     M|[Animation, Child...|    501| 01-Jan-1941|889828027|http://us.imdb.co...|  77459|   471| 3.2309453|\n",
      "| 10| student|   4.0|     M|[Action, Adventur...|    172| 01-Jan-1980|889827822|http://us.imdb.co...|  77459|   471| 3.9281337|\n",
      "| 10| student|   4.0|     M|[Animation, Child...|     95| 01-Jan-1992|889827822|http://us.imdb.co...|  77459|   471|  3.554596|\n",
      "| 10| student|   5.0|     M|[Children's, Comedy]|     94| 01-Jan-1990|889828081|http://us.imdb.co...|  77459|   471| 2.9062276|\n",
      "| 21| student|   1.0|     F| [Children's, Drama]|    417| 01-Jan-1961|876066465|http://us.imdb.co...|  55414|   496| 2.2986422|\n",
      "| 21| student|   1.0|     F|            [Comedy]|    393| 01-Jan-1993|876069951|http://us.imdb.co...|  55414|   496| 2.4931502|\n",
      "| 21| student|   1.0|     F|             [Drama]|    378| 01-Jan-1994|876066794|http://us.imdb.co...|  55414|   496| 2.7804298|\n",
      "| 21| student|   1.0|     F|             [Drama]|    496| 01-Jan-1946|876066424|http://us.imdb.co...|  55414|   496|  2.989428|\n",
      "| 21| student|   1.0|     F|  [Musical, Romance]|    155| 01-Jan-1987|876070859|http://us.imdb.co...|  55414|   496|  2.277796|\n",
      "| 21| student|   2.0|     F|[Action, Horror, ...|    183| 01-Jan-1979|876065259|http://us.imdb.co...|  55414|   496| 2.9618247|\n",
      "| 21| student|   2.0|     F|[Children's, Come...|    842| 01-Jan-1960|876068249|http://us.imdb.co...|  55414|   496|  2.348701|\n",
      "| 21| student|   2.0|     F|            [Comedy]|    154| 01-Jan-1979|876066424|http://us.imdb.co...|  55414|   496|  2.736766|\n",
      "| 21| student|   2.0|     F|  [Horror, Thriller]|    288| 20-Dec-1996|876063810|http://us.imdb.co...|  55414|   496| 2.4848788|\n",
      "| 21| student|   3.0|     F|[Action, Adventur...|    222| 22-Nov-1996|876064290|http://us.imdb.co...|  55414|   496| 2.7018266|\n",
      "+---+--------+------+------+--------------------+-------+------------+---------+--------------------+-------+------+----------+\n",
      "only showing top 20 rows\n",
      "\n"
     ]
    }
   ],
   "source": [
    "prediction.show()"
   ]
  }
 ],
 "metadata": {
  "kernelspec": {
   "display_name": "Python 3",
   "language": "python",
   "name": "python3"
  },
  "language_info": {
   "codemirror_mode": {
    "name": "ipython",
    "version": 3
   },
   "file_extension": ".py",
   "mimetype": "text/x-python",
   "name": "python",
   "nbconvert_exporter": "python",
   "pygments_lexer": "ipython3",
   "version": "3.11.6"
  }
 },
 "nbformat": 4,
 "nbformat_minor": 2
}
