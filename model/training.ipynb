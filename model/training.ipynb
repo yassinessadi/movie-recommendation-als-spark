{
 "cells": [
  {
   "cell_type": "code",
   "execution_count": 1,
   "metadata": {},
   "outputs": [],
   "source": [
    "import findspark\n",
    "findspark.init()\n",
    "from pyspark import SparkConf\n",
    "from pyspark.sql import SparkSession\n",
    "from pyspark.conf import SparkConf\n",
    "from pyspark.sql import functions as F\n",
    "SparkSession.builder.config(conf=SparkConf())\n",
    "from pyspark.ml.recommendation import ALS\n",
    "from pyspark.ml.evaluation import RegressionEvaluator\n",
    "\n",
    "\n",
    "\n",
    "######################\n",
    "# init spark session #\n",
    "######################\n",
    "spark = SparkSession.builder \\\n",
    "    .appName(\"training-model\") \\\n",
    "    .getOrCreate()"
   ]
  },
  {
   "cell_type": "code",
   "execution_count": 2,
   "metadata": {},
   "outputs": [
    {
     "name": "stdout",
     "output_type": "stream",
     "text": [
      "+---+--------+------+--------------------+-------+--------------------+------+------+------------+---------+--------------------+------+\n",
      "|age|function|gender|               genre|movieId|                name|number|rating|release_date|timestamp|                 url|userId|\n",
      "+---+--------+------+--------------------+-------+--------------------+------+------+------------+---------+--------------------+------+\n",
      "| 60| retired|     M|[Animation, Child...|      1|    Toy Story (1995)| 95076|     4| 01-Jan-1995|887736532|http://us.imdb.co...|   308|\n",
      "| 60| retired|     M|[Action, Comedy, ...|      4|   Get Shorty (1995)| 95076|     5| 01-Jan-1995|887737890|http://us.imdb.co...|   308|\n",
      "| 60| retired|     M|[Crime, Drama, Th...|      5|      Copycat (1995)| 95076|     4| 01-Jan-1995|887739608|http://us.imdb.co...|   308|\n",
      "| 60| retired|     M|     [Drama, Sci-Fi]|      7|Twelve Monkeys (1...| 95076|     4| 01-Jan-1995|887738847|http://us.imdb.co...|   308|\n",
      "| 60| retired|     M|[Children's, Come...|      8|         Babe (1995)| 95076|     5| 01-Jan-1995|887736696|http://us.imdb.co...|   308|\n",
      "+---+--------+------+--------------------+-------+--------------------+------+------+------------+---------+--------------------+------+\n",
      "only showing top 5 rows\n",
      "\n"
     ]
    }
   ],
   "source": [
    "movie_ratings = spark.read.json('../data/movies.json')\n",
    "movie_ratings.show(5)"
   ]
  },
  {
   "cell_type": "code",
   "execution_count": 3,
   "metadata": {},
   "outputs": [
    {
     "name": "stdout",
     "output_type": "stream",
     "text": [
      "root\n",
      " |-- age: string (nullable = true)\n",
      " |-- function: string (nullable = true)\n",
      " |-- gender: string (nullable = true)\n",
      " |-- genre: array (nullable = true)\n",
      " |    |-- element: string (containsNull = true)\n",
      " |-- movieId: string (nullable = true)\n",
      " |-- name: string (nullable = true)\n",
      " |-- number: string (nullable = true)\n",
      " |-- rating: string (nullable = true)\n",
      " |-- release_date: string (nullable = true)\n",
      " |-- timestamp: string (nullable = true)\n",
      " |-- url: string (nullable = true)\n",
      " |-- userId: string (nullable = true)\n",
      "\n"
     ]
    }
   ],
   "source": [
    "movie_ratings.printSchema()"
   ]
  },
  {
   "cell_type": "code",
   "execution_count": 4,
   "metadata": {},
   "outputs": [],
   "source": [
    "movie_df = movie_ratings.select(\n",
    "    F.col(\"age\").cast(\"int\").alias(\"age\"),\n",
    "    F.col(\"name\").cast(\"string\").alias(\"name\"),\n",
    "    F.col(\"function\").alias(\"function\"),\n",
    "    F.col(\"rating\").cast(\"float\").alias(\"rating\"),\n",
    "    F.col(\"gender\").alias(\"gender\"),\n",
    "    F.col(\"genre\").alias(\"genre\"),\n",
    "    F.col(\"movieId\").cast(\"int\").alias(\"movieId\"),\n",
    "    F.col(\"release_date\").alias(\"release_date\"),\n",
    "    F.col(\"timestamp\").alias(\"timestamp\"),\n",
    "    F.col(\"url\").alias(\"url\"),\n",
    "    F.col(\"number\").alias(\"codeZip\"),\n",
    "    F.col(\"userId\").cast(\"int\").alias(\"userId\"),\n",
    ")"
   ]
  },
  {
   "cell_type": "code",
   "execution_count": 5,
   "metadata": {},
   "outputs": [
    {
     "name": "stdout",
     "output_type": "stream",
     "text": [
      "root\n",
      " |-- age: integer (nullable = true)\n",
      " |-- name: string (nullable = true)\n",
      " |-- function: string (nullable = true)\n",
      " |-- rating: float (nullable = true)\n",
      " |-- gender: string (nullable = true)\n",
      " |-- genre: array (nullable = true)\n",
      " |    |-- element: string (containsNull = true)\n",
      " |-- movieId: integer (nullable = true)\n",
      " |-- release_date: string (nullable = true)\n",
      " |-- timestamp: string (nullable = true)\n",
      " |-- url: string (nullable = true)\n",
      " |-- codeZip: string (nullable = true)\n",
      " |-- userId: integer (nullable = true)\n",
      "\n"
     ]
    }
   ],
   "source": [
    "movie_df.printSchema()"
   ]
  },
  {
   "cell_type": "markdown",
   "metadata": {},
   "source": [
    "<code>\n",
    "split the data:\n",
    "</code>"
   ]
  },
  {
   "cell_type": "code",
   "execution_count": 6,
   "metadata": {},
   "outputs": [],
   "source": [
    "(training, testing) = movie_df.randomSplit([0.8, 0.2])"
   ]
  },
  {
   "cell_type": "code",
   "execution_count": 7,
   "metadata": {},
   "outputs": [
    {
     "name": "stdout",
     "output_type": "stream",
     "text": [
      "+---+--------------------+-------------+------+------+---------+-------+------------+---------+---+-------+------+\n",
      "|age|                name|     function|rating|gender|    genre|movieId|release_date|timestamp|url|codeZip|userId|\n",
      "+---+--------------------+-------------+------+------+---------+-------+------------+---------+---+-------+------+\n",
      "| 20|             unknown|         none|   5.0|     M|[unknown]|    267|            |875801239|   |  60115|   130|\n",
      "| 20|             unknown|      student|   3.0|     M|[unknown]|    267|            |875441348|   |  92705|   532|\n",
      "| 22|Boys in Venice (1...|   healthcare|   1.0|     F|  [Drama]|   1359| 24-Sep-1996|885549790|   |  10019|   405|\n",
      "| 24|             unknown|     engineer|   3.0|     M|[unknown]|    267|            |875742077|   |  19422|   268|\n",
      "| 24|             unknown|   technician|   4.0|     M|[unknown]|    267|            |875692955|   |  85711|     1|\n",
      "| 26|The Deadly Cure (...|    executive|   1.0|     M| [Action]|   1358| 16-Sep-1996|878962120|   |  21218|   181|\n",
      "| 26|             unknown|entertainment|   4.0|     M|[unknown]|    267|            |875655986|   |  94533|   422|\n",
      "| 29|             unknown|     educator|   3.0|     F|[unknown]|    267|            |875409139|   |  98103|   297|\n",
      "| 33|             unknown|        other|   4.0|     F|[unknown]|    267|            |875635064|   |  15213|     5|\n",
      "| 34|The Deadly Cure (...|    marketing|   5.0|     M| [Action]|   1358| 16-Sep-1996|886892241|   |  23226|   288|\n",
      "| 34|             unknown|       writer|   1.0|     M|[unknown]|    267|            |875655669|   |  90019|   833|\n",
      "| 38|             unknown|   programmer|   4.0|     M|[unknown]|    267|            |875707690|   |  22030|   319|\n",
      "+---+--------------------+-------------+------+------+---------+-------+------------+---------+---+-------+------+\n",
      "\n"
     ]
    }
   ],
   "source": [
    "training.where(\"url == ''\").show()"
   ]
  },
  {
   "cell_type": "code",
   "execution_count": 8,
   "metadata": {},
   "outputs": [],
   "source": [
    "als = ALS(maxIter=5,\n",
    "          rank=20,\n",
    "          regParam=0.1, \n",
    "          userCol=\"userId\", \n",
    "          itemCol=\"movieId\", \n",
    "          ratingCol=\"rating\",\n",
    "          coldStartStrategy = \"drop\")\n",
    "\n",
    "model = als.fit(training)"
   ]
  },
  {
   "cell_type": "code",
   "execution_count": 9,
   "metadata": {},
   "outputs": [
    {
     "name": "stdout",
     "output_type": "stream",
     "text": [
      "Root-mean-square error = 0.9300435119609682\n"
     ]
    }
   ],
   "source": [
    "predictions = model.transform(testing)\n",
    "evaluator = RegressionEvaluator(metricName=\"rmse\", \n",
    "                                labelCol=\"rating\",\n",
    "                                predictionCol=\"prediction\")\n",
    "rmse = evaluator.evaluate(predictions)\n",
    "# predictions.show()\n",
    "print(\"Root-mean-square error = \" + str(rmse))"
   ]
  },
  {
   "cell_type": "code",
   "execution_count": 10,
   "metadata": {},
   "outputs": [],
   "source": [
    "model.save(\"../model/als-model\")"
   ]
  },
  {
   "cell_type": "code",
   "execution_count": 11,
   "metadata": {},
   "outputs": [],
   "source": [
    "def getUsers(movieId,limit):\n",
    "    df = testing.where(f\"movieId = {movieId}\")\n",
    "    return df.select(\"userId\").distinct().limit(limit)"
   ]
  },
  {
   "cell_type": "code",
   "execution_count": 13,
   "metadata": {},
   "outputs": [],
   "source": [
    "users = getUsers(252,5)\n",
    "userSubsetRecs = model.recommendForUserSubset(users, 2)"
   ]
  },
  {
   "cell_type": "code",
   "execution_count": 17,
   "metadata": {},
   "outputs": [
    {
     "data": {
      "text/plain": [
       "251"
      ]
     },
     "execution_count": 17,
     "metadata": {},
     "output_type": "execute_result"
    }
   ],
   "source": [
    "userSubsetRecs.collect()[0][0]"
   ]
  },
  {
   "cell_type": "code",
   "execution_count": null,
   "metadata": {},
   "outputs": [],
   "source": [
    "spark.createDataFrame"
   ]
  },
  {
   "cell_type": "code",
   "execution_count": null,
   "metadata": {},
   "outputs": [],
   "source": []
  }
 ],
 "metadata": {
  "kernelspec": {
   "display_name": "Python 3",
   "language": "python",
   "name": "python3"
  },
  "language_info": {
   "codemirror_mode": {
    "name": "ipython",
    "version": 3
   },
   "file_extension": ".py",
   "mimetype": "text/x-python",
   "name": "python",
   "nbconvert_exporter": "python",
   "pygments_lexer": "ipython3",
   "version": "3.11.6"
  }
 },
 "nbformat": 4,
 "nbformat_minor": 2
}
