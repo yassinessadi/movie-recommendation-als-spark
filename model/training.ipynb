{
 "cells": [
  {
   "cell_type": "code",
   "execution_count": 14,
   "metadata": {},
   "outputs": [],
   "source": [
    "import findspark\n",
    "findspark.init()\n",
    "from pyspark import SparkConf\n",
    "from pyspark.sql import SparkSession\n",
    "from pyspark.conf import SparkConf\n",
    "from pyspark.sql import functions as F\n",
    "SparkSession.builder.config(conf=SparkConf())\n",
    "from pyspark.ml.recommendation import ALS\n",
    "from pyspark.ml.evaluation import RegressionEvaluator\n",
    "from pyspark.ml.tuning import TrainValidationSplit, ParamGridBuilder, CrossValidator\n",
    "\n",
    "\n",
    "\n",
    "######################\n",
    "# init spark session #\n",
    "######################\n",
    "spark = SparkSession.builder \\\n",
    "    .appName(\"train-model\") \\\n",
    "    .getOrCreate()"
   ]
  },
  {
   "cell_type": "code",
   "execution_count": 15,
   "metadata": {},
   "outputs": [
    {
     "name": "stdout",
     "output_type": "stream",
     "text": [
      "+---+--------+------+--------------------+-------+--------------------+------+------+------------+---------+--------------------+------+\n",
      "|age|function|gender|               genre|movieId|                name|number|rating|release_date|timestamp|                 url|userId|\n",
      "+---+--------+------+--------------------+-------+--------------------+------+------+------------+---------+--------------------+------+\n",
      "| 60| retired|     M|[Animation, Child...|      1|    Toy Story (1995)| 95076|     4| 01-Jan-1995|887736532|http://us.imdb.co...|   308|\n",
      "| 60| retired|     M|[Action, Comedy, ...|      4|   Get Shorty (1995)| 95076|     5| 01-Jan-1995|887737890|http://us.imdb.co...|   308|\n",
      "| 60| retired|     M|[Crime, Drama, Th...|      5|      Copycat (1995)| 95076|     4| 01-Jan-1995|887739608|http://us.imdb.co...|   308|\n",
      "| 60| retired|     M|     [Drama, Sci-Fi]|      7|Twelve Monkeys (1...| 95076|     4| 01-Jan-1995|887738847|http://us.imdb.co...|   308|\n",
      "| 60| retired|     M|[Children's, Come...|      8|         Babe (1995)| 95076|     5| 01-Jan-1995|887736696|http://us.imdb.co...|   308|\n",
      "+---+--------+------+--------------------+-------+--------------------+------+------+------------+---------+--------------------+------+\n",
      "only showing top 5 rows\n",
      "\n"
     ]
    }
   ],
   "source": [
    "movie_ratings = spark.read.json('../data/movies.json')\n",
    "movie_ratings.show(5)"
   ]
  },
  {
   "cell_type": "code",
   "execution_count": 16,
   "metadata": {},
   "outputs": [
    {
     "name": "stdout",
     "output_type": "stream",
     "text": [
      "root\n",
      " |-- age: string (nullable = true)\n",
      " |-- function: string (nullable = true)\n",
      " |-- gender: string (nullable = true)\n",
      " |-- genre: array (nullable = true)\n",
      " |    |-- element: string (containsNull = true)\n",
      " |-- movieId: string (nullable = true)\n",
      " |-- name: string (nullable = true)\n",
      " |-- number: string (nullable = true)\n",
      " |-- rating: string (nullable = true)\n",
      " |-- release_date: string (nullable = true)\n",
      " |-- timestamp: string (nullable = true)\n",
      " |-- url: string (nullable = true)\n",
      " |-- userId: string (nullable = true)\n",
      "\n"
     ]
    }
   ],
   "source": [
    "movie_ratings.printSchema()"
   ]
  },
  {
   "cell_type": "code",
   "execution_count": 17,
   "metadata": {},
   "outputs": [],
   "source": [
    "movie_df = movie_ratings.select(\n",
    "    F.col(\"age\").cast(\"int\").alias(\"age\"),\n",
    "    F.col(\"function\").alias(\"function\"),\n",
    "    F.col(\"rating\").cast(\"float\").alias(\"rating\"),\n",
    "    F.col(\"gender\").alias(\"gender\"),\n",
    "    F.col(\"genre\").alias(\"genre\"),\n",
    "    F.col(\"movieId\").cast(\"int\").alias(\"movieId\"),\n",
    "    F.col(\"release_date\").alias(\"release_date\"),\n",
    "    F.col(\"timestamp\").alias(\"timestamp\"),\n",
    "    F.col(\"url\").alias(\"url\"),\n",
    "    F.col(\"number\").alias(\"codeZip\"),\n",
    "    F.col(\"userId\").cast(\"int\").alias(\"userId\"),\n",
    ")"
   ]
  },
  {
   "cell_type": "code",
   "execution_count": 18,
   "metadata": {},
   "outputs": [
    {
     "name": "stdout",
     "output_type": "stream",
     "text": [
      "root\n",
      " |-- age: integer (nullable = true)\n",
      " |-- function: string (nullable = true)\n",
      " |-- rating: float (nullable = true)\n",
      " |-- gender: string (nullable = true)\n",
      " |-- genre: array (nullable = true)\n",
      " |    |-- element: string (containsNull = true)\n",
      " |-- movieId: integer (nullable = true)\n",
      " |-- release_date: string (nullable = true)\n",
      " |-- timestamp: string (nullable = true)\n",
      " |-- url: string (nullable = true)\n",
      " |-- codeZip: string (nullable = true)\n",
      " |-- userId: integer (nullable = true)\n",
      "\n"
     ]
    }
   ],
   "source": [
    "movie_df.printSchema()"
   ]
  },
  {
   "cell_type": "markdown",
   "metadata": {},
   "source": [
    "<code>\n",
    "split the data:\n",
    "</code>"
   ]
  },
  {
   "cell_type": "code",
   "execution_count": 19,
   "metadata": {},
   "outputs": [],
   "source": [
    "(training, testing) = movie_df.randomSplit([0.8, 0.2])"
   ]
  },
  {
   "cell_type": "code",
   "execution_count": 21,
   "metadata": {},
   "outputs": [
    {
     "name": "stdout",
     "output_type": "stream",
     "text": [
      "rank:  30\n",
      "MaxIter:  20\n",
      "RegParam:  0.15\n"
     ]
    }
   ],
   "source": [
    "# als = ALS(maxIter=5, \n",
    "#           rank=4,\n",
    "#           regParam=0.01, \n",
    "#           userCol=\"userId\", \n",
    "#           itemCol=\"movieId\", \n",
    "#           ratingCol=\"rating\",\n",
    "#           coldStartStrategy = \"drop\")\n",
    "# model = als.fit(training)\n",
    "\n",
    "# Configure the ALS model\n",
    "als = ALS(userCol='userId', itemCol='movieId', ratingCol='rating',\n",
    "          coldStartStrategy='drop', nonnegative=True)\n",
    "\n",
    "\n",
    "param_grid = ParamGridBuilder()\\\n",
    "             .addGrid(als.rank, [1, 20, 30])\\\n",
    "             .addGrid(als.maxIter, [20])\\\n",
    "             .addGrid(als.regParam, [.05, .15])\\\n",
    "             .build()\n",
    "evaluator = RegressionEvaluator(metricName='rmse', labelCol='rating', predictionCol='prediction')\n",
    "\n",
    "cv = CrossValidator(\n",
    "        estimator=als,\n",
    "        estimatorParamMaps=param_grid,\n",
    "        evaluator=evaluator,\n",
    "        numFolds=3)\n",
    "\n",
    "model = cv.fit(training)\n",
    "\n",
    "best_model = model.bestModel\n",
    "print('rank: ', best_model.rank)\n",
    "print('MaxIter: ', best_model._java_obj.parent().getMaxIter())\n",
    "print('RegParam: ', best_model._java_obj.parent().getRegParam())"
   ]
  },
  {
   "cell_type": "code",
   "execution_count": 8,
   "metadata": {},
   "outputs": [
    {
     "name": "stdout",
     "output_type": "stream",
     "text": [
      "Root-mean-square error = 0.9924835470959829\n"
     ]
    }
   ],
   "source": [
    "predictions = model.transform(testing)\n",
    "evaluator = RegressionEvaluator(metricName=\"rmse\", \n",
    "                                labelCol=\"rating\",\n",
    "                                predictionCol=\"prediction\")\n",
    "rmse = evaluator.evaluate(predictions)\n",
    "# predictions.show()\n",
    "print(\"Root-mean-square error = \" + str(rmse))"
   ]
  },
  {
   "cell_type": "code",
   "execution_count": 14,
   "metadata": {},
   "outputs": [],
   "source": [
    "model.save(\"als-model\")"
   ]
  },
  {
   "cell_type": "code",
   "execution_count": 9,
   "metadata": {},
   "outputs": [
    {
     "name": "stderr",
     "output_type": "stream",
     "text": [
      "C:\\Spark\\spark-3.2.4-bin-hadoop2.7\\python\\pyspark\\sql\\context.py:125: FutureWarning: Deprecated in 3.0.0. Use SparkSession.builder.getOrCreate() instead.\n",
      "  warnings.warn(\n"
     ]
    }
   ],
   "source": [
    "userRecs = model.recommendForAllUsers(100)"
   ]
  },
  {
   "cell_type": "code",
   "execution_count": 11,
   "metadata": {},
   "outputs": [
    {
     "name": "stdout",
     "output_type": "stream",
     "text": [
      "+------+--------------------+\n",
      "|userId|     recommendations|\n",
      "+------+--------------------+\n",
      "|   540|[{1554, 9.537097}...|\n",
      "|   580|[{1104, 9.678745}...|\n",
      "|   530|[{1643, 7.4660716...|\n",
      "|   830|[{1242, 11.867263...|\n",
      "|   210|[{1554, 7.995552}...|\n",
      "+------+--------------------+\n",
      "only showing top 5 rows\n",
      "\n"
     ]
    }
   ],
   "source": [
    "userRecs.show(5)"
   ]
  }
 ],
 "metadata": {
  "kernelspec": {
   "display_name": "Python 3",
   "language": "python",
   "name": "python3"
  },
  "language_info": {
   "codemirror_mode": {
    "name": "ipython",
    "version": 3
   },
   "file_extension": ".py",
   "mimetype": "text/x-python",
   "name": "python",
   "nbconvert_exporter": "python",
   "pygments_lexer": "ipython3",
   "version": "3.11.6"
  }
 },
 "nbformat": 4,
 "nbformat_minor": 2
}
