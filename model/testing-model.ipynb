{
 "cells": [
  {
   "cell_type": "code",
   "execution_count": 1,
   "metadata": {},
   "outputs": [],
   "source": [
    "import findspark\n",
    "findspark.init()\n",
    "from pyspark.sql import SparkSession\n",
    "from pyspark.ml.recommendation import ALSModel "
   ]
  },
  {
   "cell_type": "code",
   "execution_count": 2,
   "metadata": {},
   "outputs": [
    {
     "data": {
      "text/html": [
       "\n",
       "            <div>\n",
       "                <p><b>SparkSession - in-memory</b></p>\n",
       "                \n",
       "        <div>\n",
       "            <p><b>SparkContext</b></p>\n",
       "\n",
       "            <p><a href=\"http://LAPTOP-VQCV01FE:4041\">Spark UI</a></p>\n",
       "\n",
       "            <dl>\n",
       "              <dt>Version</dt>\n",
       "                <dd><code>v3.2.4</code></dd>\n",
       "              <dt>Master</dt>\n",
       "                <dd><code>local</code></dd>\n",
       "              <dt>AppName</dt>\n",
       "                <dd><code>recommend-movies</code></dd>\n",
       "            </dl>\n",
       "        </div>\n",
       "        \n",
       "            </div>\n",
       "        "
      ],
      "text/plain": [
       "<pyspark.sql.session.SparkSession at 0x167c50c66d0>"
      ]
     },
     "execution_count": 2,
     "metadata": {},
     "output_type": "execute_result"
    }
   ],
   "source": [
    "SparkSession.builder \\\n",
    "        .appName(\"recommend-movies\") \\\n",
    "        .master(\"local\") \\\n",
    "        .getOrCreate()"
   ]
  },
  {
   "cell_type": "code",
   "execution_count": 5,
   "metadata": {},
   "outputs": [],
   "source": [
    "# Load your ALS model\n",
    "model_path = \"../model/als-model\"  # Path to your ALS model\n",
    "als_model = ALSModel.load(model_path)"
   ]
  },
  {
   "cell_type": "code",
   "execution_count": 6,
   "metadata": {},
   "outputs": [
    {
     "name": "stderr",
     "output_type": "stream",
     "text": [
      "C:\\Spark\\spark-3.2.4-bin-hadoop2.7\\python\\pyspark\\sql\\context.py:125: FutureWarning: Deprecated in 3.0.0. Use SparkSession.builder.getOrCreate() instead.\n",
      "  warnings.warn(\n"
     ]
    }
   ],
   "source": [
    "rec = als_model.recommendForAllUsers(1)"
   ]
  },
  {
   "cell_type": "code",
   "execution_count": 7,
   "metadata": {},
   "outputs": [
    {
     "name": "stdout",
     "output_type": "stream",
     "text": [
      "+------+-------------------+\n",
      "|userId|    recommendations|\n",
      "+------+-------------------+\n",
      "|     1|[{1589, 7.7692156}]|\n",
      "|     2|[{1643, 6.6930285}]|\n",
      "|     3|[{1233, 6.5577946}]|\n",
      "|     4|[{1394, 12.066763}]|\n",
      "|     5|  [{75, 10.141891}]|\n",
      "|     6|[{1589, 6.9901905}]|\n",
      "|     7|[{1643, 6.8392406}]|\n",
      "|     8|  [{1167, 8.10989}]|\n",
      "|     9| [{1233, 7.244708}]|\n",
      "|    10|[{1643, 6.4233584}]|\n",
      "|    11| [{1233, 7.220244}]|\n",
      "|    12| [{1233, 9.843905}]|\n",
      "|    13|  [{75, 6.5623493}]|\n",
      "|    14| [{1260, 6.698143}]|\n",
      "|    15|  [{913, 8.907139}]|\n",
      "|    16| [{1242, 9.485255}]|\n",
      "|    17|[{1664, 11.696862}]|\n",
      "|    18| [{1470, 6.305028}]|\n",
      "|    19|[{1233, 6.7110586}]|\n",
      "|    20|[{1628, 14.148795}]|\n",
      "+------+-------------------+\n",
      "only showing top 20 rows\n",
      "\n"
     ]
    }
   ],
   "source": [
    "rec.show()"
   ]
  }
 ],
 "metadata": {
  "kernelspec": {
   "display_name": "Python 3",
   "language": "python",
   "name": "python3"
  },
  "language_info": {
   "codemirror_mode": {
    "name": "ipython",
    "version": 3
   },
   "file_extension": ".py",
   "mimetype": "text/x-python",
   "name": "python",
   "nbconvert_exporter": "python",
   "pygments_lexer": "ipython3",
   "version": "3.11.6"
  }
 },
 "nbformat": 4,
 "nbformat_minor": 2
}
