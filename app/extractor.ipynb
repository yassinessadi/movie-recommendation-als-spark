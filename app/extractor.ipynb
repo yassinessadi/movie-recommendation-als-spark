{
 "cells": [
  {
   "cell_type": "markdown",
   "metadata": {},
   "source": [
    "<code>\n",
    "|=========================> import libs & modules:\n",
    "</code>"
   ]
  },
  {
   "cell_type": "code",
   "execution_count": 15,
   "metadata": {},
   "outputs": [],
   "source": [
    "import pandas as pd"
   ]
  },
  {
   "cell_type": "markdown",
   "metadata": {},
   "source": [
    "<code>\n",
    "|=========================> data frame for movies & users:\n",
    "</code>"
   ]
  },
  {
   "cell_type": "code",
   "execution_count": 16,
   "metadata": {},
   "outputs": [],
   "source": [
    "\n",
    "\n",
    "def openFile(file_path, mode='r'):\n",
    "    try:\n",
    "        return open(file_path, mode)\n",
    "    except FileNotFoundError:\n",
    "        print(f\"File not found: {file_path}\")\n",
    "        raise\n",
    "\n",
    "fileGenre = openFile('../data/u.genre')\n",
    "fileItem = openFile('../data/u.item')\n",
    "fileUser = openFile('../data/u.user')\n",
    "fileData = openFile('../data/u.data')\n",
    "\n",
    "def getDataframeFromFile(filed):\n",
    "    data = []\n",
    "    #\n",
    "    while True:\n",
    "\n",
    "        line = filed.readline()\n",
    "\n",
    "        # if line is empty\n",
    "        if line.strip() == \"\":\n",
    "            break\n",
    "\n",
    "        rec = line.strip().split('|')\n",
    "        \n",
    "\n",
    "\n",
    "        item = {}\n",
    "\n",
    "        if len(rec) > 6:\n",
    "            item['movieId'] = rec[0]\n",
    "            item['name'] = rec[1]\n",
    "            item['release_date'] = rec[2]\n",
    "            item['url'] = rec[4]\n",
    "\n",
    "            #5 => 23\n",
    "            item['genre'] = [genre[idx]['name'] for  idx, g in enumerate(range(5,24)) if rec[g] == '1']\n",
    "\n",
    "        elif len(rec) == 2:\n",
    "            item['id'] = rec[1]\n",
    "            item['name'] = rec[0]\n",
    "            \n",
    "        elif len(rec) == 5:\n",
    "            item['userId'] = rec[0]\n",
    "            item['age'] = rec[1]\n",
    "            item['gender'] = rec[2]\n",
    "            item['function'] = rec[3]\n",
    "            item['number'] = rec[4]\n",
    "        else:\n",
    "            print(\"Invalid record format. Skipping.\")\n",
    "            return\n",
    "\n",
    "        data.append(item)\n",
    "    filed.close()\n",
    "    return data\n",
    "\n",
    "genre = getDataframeFromFile(fileGenre)\n",
    "items = getDataframeFromFile(fileItem)\n",
    "users = getDataframeFromFile(fileUser)\n",
    "\n",
    "\n",
    "df_movies = pd.DataFrame(items)\n",
    "df_users = pd.DataFrame(users)"
   ]
  },
  {
   "cell_type": "markdown",
   "metadata": {},
   "source": [
    "<code>\n",
    "|=========================> data frame for relationship between movies & users:\n",
    "</code>"
   ]
  },
  {
   "cell_type": "code",
   "execution_count": 17,
   "metadata": {},
   "outputs": [],
   "source": [
    "fileData = open('../data/u.data', 'r')\n",
    "def getDataframeFromFileWithSpaces(filed):\n",
    "    data = []\n",
    "    #\n",
    "    while True:\n",
    "\n",
    "        line = filed.readline()\n",
    "\n",
    "        # if line is empty\n",
    "        if line.strip() == \"\":\n",
    "            break\n",
    "\n",
    "        rec = line.strip().split('\\t')\n",
    "\n",
    "        item = {}\n",
    "        \n",
    "        item['userId'] = rec[0]\n",
    "        item['movieId'] = rec[1]\n",
    "        item['rating'] = rec[2]\n",
    "        item['timestamp'] = rec[3]\n",
    "        data.append(item)\n",
    "    filed.close()\n",
    "    return data\n",
    "\n",
    "relationship = getDataframeFromFileWithSpaces(fileData)\n",
    "df_relations = pd.DataFrame(relationship)"
   ]
  },
  {
   "cell_type": "markdown",
   "metadata": {},
   "source": [
    "```\n",
    "|=========================> merge dataframes ( users,ratings,movies ):\n",
    "```"
   ]
  },
  {
   "cell_type": "code",
   "execution_count": 18,
   "metadata": {},
   "outputs": [],
   "source": [
    "merged_df = pd.merge(df_movies, df_relations[['userId', 'movieId', 'rating','timestamp']], on='movieId', how='inner')\n",
    "df = pd.merge(merged_df,df_users,on=['userId'],how='inner')"
   ]
  },
  {
   "cell_type": "markdown",
   "metadata": {},
   "source": [
    "```\n",
    "|=========================>  Note: the expected output :\n",
    "\n",
    "\n",
    "{\"userId\": \"365\",\n",
    "  \"movie\": \n",
    "    { \"movieId\": \"7526\",\n",
    "        \"title\": \"Lord of the Rings: The Fellowship of the Ring, The (2001)\",\n",
    "        \"genres\": [\"Adventure\", \"Fantasy\"] \n",
    "    },\n",
    "    \"rating\": \"5\",\n",
    "    \"timestamp\": \"45554125\",\n",
    "    \"userId\": \"13\",\n",
    "    \"age\": 19,\n",
    "    \"gender\": \"F\",\n",
    "    \"functions\": \"45554125\",\n",
    "}\n",
    "Ouput:\n",
    "```"
   ]
  },
  {
   "cell_type": "markdown",
   "metadata": {},
   "source": [
    "```\n",
    "|=========================> save data on json:\n",
    "```"
   ]
  },
  {
   "cell_type": "code",
   "execution_count": 19,
   "metadata": {},
   "outputs": [],
   "source": [
    "res = df.to_json(orient='records',path_or_buf=\"../data/movies.json\")\n",
    "# df_movies.to_json(orient='records',path_or_buf=\"../data/movies.json\")\n",
    "# df_users.to_json(orient='records',path_or_buf=\"../data/users.json\")\n",
    "# df_relations.to_json(orient='records',path_or_buf=\"../data/ratings.json\")"
   ]
  }
 ],
 "metadata": {
  "kernelspec": {
   "display_name": "Python 3",
   "language": "python",
   "name": "python3"
  },
  "language_info": {
   "codemirror_mode": {
    "name": "ipython",
    "version": 3
   },
   "file_extension": ".py",
   "mimetype": "text/x-python",
   "name": "python",
   "nbconvert_exporter": "python",
   "pygments_lexer": "ipython3",
   "version": "3.11.6"
  }
 },
 "nbformat": 4,
 "nbformat_minor": 2
}
